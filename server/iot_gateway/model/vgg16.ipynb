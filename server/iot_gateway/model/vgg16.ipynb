{
  "cells": [
    {
      "cell_type": "code",
      "execution_count": 1,
      "metadata": {
        "_cell_guid": "b1076dfc-b9ad-4769-8c92-a6c4dae69d19",
        "_uuid": "8f2839f25d086af736a60e9eeb907d3b93b6e0e5",
        "id": "3gh2WolXgLcR",
        "colab": {
          "base_uri": "https://localhost:8080/"
        },
        "outputId": "ec24775a-4e57-4237-c007-24fb689f3fe3"
      },
      "outputs": [
        {
          "output_type": "stream",
          "name": "stdout",
          "text": [
            "Mounted at /content/drive\n"
          ]
        }
      ],
      "source": [
        "from google.colab import drive\n",
        "drive.mount('/content/drive')"
      ]
    },
    {
      "cell_type": "code",
      "source": [
        "import numpy as np # linear algebra\n",
        "import pandas as pd # data processing, CSV file I/O (e.g. pd.read_csv)\n",
        "import seaborn as sns\n",
        "import sys\n",
        "import os\n",
        "from keras.applications.vgg16 import VGG16\n",
        "import keras\n",
        "from numpy import load\n",
        "from matplotlib import pyplot\n",
        "from sklearn.model_selection import train_test_split\n",
        "from keras import backend\n",
        "from keras.layers import Dense, Flatten, Conv2D, MaxPooling2D\n",
        "from keras.models import Sequential\n",
        "from keras.optimizers import SGD\n",
        "from keras.models import Model\n",
        "from tensorflow.keras.preprocessing.image import ImageDataGenerator\n",
        "from keras.preprocessing.image import load_img\n",
        "from keras.preprocessing.image import img_to_array\n",
        "from keras.layers import Dropout\n",
        "from tensorflow.keras.layers import BatchNormalization"
      ],
      "metadata": {
        "id": "u4jembmmsrGU"
      },
      "execution_count": 2,
      "outputs": []
    },
    {
      "cell_type": "code",
      "execution_count": 3,
      "metadata": {
        "_cell_guid": "79c7e3d0-c299-4dcb-8224-4455121ee9b0",
        "_uuid": "d629ff2d2480ee46fbb7e2d37f6b5fab8052498a",
        "id": "A7GxMhAwgLcU",
        "outputId": "415739fa-2dca-4a45-ea42-0d1e085e3d8c",
        "colab": {
          "base_uri": "https://localhost:8080/"
        }
      },
      "outputs": [
        {
          "output_type": "stream",
          "name": "stdout",
          "text": [
            "Found 1322 images belonging to 2 classes.\n",
            "Found 60 images belonging to 2 classes.\n"
          ]
        }
      ],
      "source": [
        "traindir = \"/content/drive/MyDrive/plant_disease_dataset/Train\"\n",
        "validdir = \"/content/drive/MyDrive/plant_disease_dataset/Validation\"\n",
        "testdir = \"/content/drive/MyDrive/plant_disease_dataset/Test\"\n",
        "\n",
        "train_datagen = ImageDataGenerator(rescale=1./255,\n",
        "                                   shear_range=0.2,\n",
        "                                   zoom_range=0.2,\n",
        "                                   width_shift_range=0.2,\n",
        "                                   height_shift_range=0.2,\n",
        "                                   fill_mode='nearest')\n",
        "\n",
        "validation_datagen = ImageDataGenerator(rescale=1./255)\n",
        "\n",
        "batch_size = 64\n",
        "training_set = train_datagen.flow_from_directory(traindir,\n",
        "                                                 target_size=(224, 224),\n",
        "                                                 batch_size=batch_size,\n",
        "                                                 class_mode='binary')\n",
        "\n",
        "validation_set = validation_datagen.flow_from_directory(validdir,\n",
        "                                            target_size=(224, 224),\n",
        "                                            batch_size=batch_size,\n",
        "                                            class_mode='binary')\n"
      ]
    },
    {
      "cell_type": "code",
      "execution_count": 4,
      "metadata": {
        "id": "3eGuC0Y4gLcV"
      },
      "outputs": [],
      "source": [
        "train_num = training_set.samples\n",
        "valid_num = validation_set.samples"
      ]
    },
    {
      "cell_type": "code",
      "execution_count": 5,
      "metadata": {
        "id": "ajE5s6dsgLcV",
        "colab": {
          "base_uri": "https://localhost:8080/"
        },
        "outputId": "206e4f8c-ef83-4d15-c010-074e39af6efe"
      },
      "outputs": [
        {
          "output_type": "stream",
          "name": "stdout",
          "text": [
            "Downloading data from https://storage.googleapis.com/tensorflow/keras-applications/vgg16/vgg16_weights_tf_dim_ordering_tf_kernels_notop.h5\n",
            "58889256/58889256 [==============================] - 1s 0us/step\n"
          ]
        }
      ],
      "source": [
        "base_model=VGG16(include_top=False,input_shape=(224,224,3))\n",
        "base_model.trainable=False"
      ]
    },
    {
      "cell_type": "code",
      "execution_count": 6,
      "metadata": {
        "id": "mzDmYZp0gLcV",
        "outputId": "11b9d373-5587-43de-b8e9-b5aaf0ba6615",
        "colab": {
          "base_uri": "https://localhost:8080/"
        }
      },
      "outputs": [
        {
          "output_type": "stream",
          "name": "stdout",
          "text": [
            "Model: \"sequential\"\n",
            "_________________________________________________________________\n",
            " Layer (type)                Output Shape              Param #   \n",
            "=================================================================\n",
            " vgg16 (Functional)          (None, 7, 7, 512)         14714688  \n",
            "                                                                 \n",
            " flatten (Flatten)           (None, 25088)             0         \n",
            "                                                                 \n",
            " dense (Dense)               (None, 1)                 25089     \n",
            "                                                                 \n",
            "=================================================================\n",
            "Total params: 14739777 (56.23 MB)\n",
            "Trainable params: 25089 (98.00 KB)\n",
            "Non-trainable params: 14714688 (56.13 MB)\n",
            "_________________________________________________________________\n"
          ]
        }
      ],
      "source": [
        "model=keras.models.Sequential()\n",
        "model.add(base_model)\n",
        "model.add(Flatten())\n",
        "model.add(Dense(1,activation='sigmoid'))\n",
        "model.summary()"
      ]
    },
    {
      "cell_type": "code",
      "execution_count": 7,
      "metadata": {
        "id": "vOB7hNk9gLcW"
      },
      "outputs": [],
      "source": [
        "model.compile(optimizer='adam',\n",
        "              loss='binary_crossentropy',\n",
        "              metrics=['accuracy'])"
      ]
    },
    {
      "cell_type": "code",
      "execution_count": 8,
      "metadata": {
        "id": "XOyn5e_bgLcW",
        "outputId": "2d03a9f7-703b-40dc-ec4d-7a33556e1514",
        "colab": {
          "base_uri": "https://localhost:8080/"
        }
      },
      "outputs": [
        {
          "output_type": "stream",
          "name": "stdout",
          "text": [
            "Epoch 1/25\n",
            "21/21 [==============================] - 842s 39s/step - loss: 0.7427 - accuracy: 0.6301 - val_loss: 0.6507 - val_accuracy: 0.7000\n",
            "Epoch 2/25\n",
            "21/21 [==============================] - 830s 40s/step - loss: 0.4306 - accuracy: 0.7859 - val_loss: 0.3085 - val_accuracy: 0.8667\n",
            "Epoch 3/25\n",
            "21/21 [==============================] - 807s 38s/step - loss: 0.3386 - accuracy: 0.8548 - val_loss: 0.2525 - val_accuracy: 0.9167\n",
            "Epoch 4/25\n",
            "21/21 [==============================] - 789s 38s/step - loss: 0.2813 - accuracy: 0.8850 - val_loss: 0.2191 - val_accuracy: 0.9500\n",
            "Epoch 5/25\n",
            "21/21 [==============================] - 794s 38s/step - loss: 0.2608 - accuracy: 0.9047 - val_loss: 0.1939 - val_accuracy: 0.9333\n",
            "Epoch 6/25\n",
            "21/21 [==============================] - 831s 39s/step - loss: 0.2306 - accuracy: 0.9198 - val_loss: 0.2418 - val_accuracy: 0.8667\n",
            "Epoch 7/25\n",
            "21/21 [==============================] - 805s 38s/step - loss: 0.2261 - accuracy: 0.9153 - val_loss: 0.2113 - val_accuracy: 0.9000\n",
            "Epoch 8/25\n",
            "21/21 [==============================] - 816s 39s/step - loss: 0.2044 - accuracy: 0.9213 - val_loss: 0.2180 - val_accuracy: 0.9000\n",
            "Epoch 9/25\n",
            "21/21 [==============================] - 785s 37s/step - loss: 0.1900 - accuracy: 0.9380 - val_loss: 0.1667 - val_accuracy: 0.9333\n",
            "Epoch 10/25\n",
            "21/21 [==============================] - 806s 38s/step - loss: 0.1934 - accuracy: 0.9342 - val_loss: 0.1750 - val_accuracy: 0.9167\n",
            "Epoch 11/25\n",
            "21/21 [==============================] - 826s 39s/step - loss: 0.1735 - accuracy: 0.9395 - val_loss: 0.1467 - val_accuracy: 0.9500\n",
            "Epoch 12/25\n",
            "21/21 [==============================] - 789s 37s/step - loss: 0.1689 - accuracy: 0.9365 - val_loss: 0.1460 - val_accuracy: 0.9500\n",
            "Epoch 13/25\n",
            "21/21 [==============================] - 783s 37s/step - loss: 0.1588 - accuracy: 0.9516 - val_loss: 0.1551 - val_accuracy: 0.9500\n",
            "Epoch 14/25\n",
            "21/21 [==============================] - 791s 38s/step - loss: 0.1577 - accuracy: 0.9493 - val_loss: 0.1520 - val_accuracy: 0.9167\n",
            "Epoch 15/25\n",
            "21/21 [==============================] - 789s 37s/step - loss: 0.1571 - accuracy: 0.9402 - val_loss: 0.1467 - val_accuracy: 0.9500\n",
            "Epoch 16/25\n",
            "21/21 [==============================] - 782s 37s/step - loss: 0.1634 - accuracy: 0.9387 - val_loss: 0.1468 - val_accuracy: 0.9167\n",
            "Epoch 17/25\n",
            "21/21 [==============================] - 785s 37s/step - loss: 0.1325 - accuracy: 0.9523 - val_loss: 0.1563 - val_accuracy: 0.9167\n",
            "Epoch 18/25\n",
            "21/21 [==============================] - 781s 37s/step - loss: 0.1430 - accuracy: 0.9486 - val_loss: 0.1416 - val_accuracy: 0.9333\n",
            "Epoch 19/25\n",
            "21/21 [==============================] - 780s 37s/step - loss: 0.1315 - accuracy: 0.9531 - val_loss: 0.1391 - val_accuracy: 0.9333\n",
            "Epoch 20/25\n",
            "21/21 [==============================] - 787s 37s/step - loss: 0.1461 - accuracy: 0.9425 - val_loss: 0.1576 - val_accuracy: 0.9333\n",
            "Epoch 21/25\n",
            "21/21 [==============================] - 793s 38s/step - loss: 0.1323 - accuracy: 0.9508 - val_loss: 0.1283 - val_accuracy: 0.9500\n",
            "Epoch 22/25\n",
            "21/21 [==============================] - 778s 37s/step - loss: 0.1063 - accuracy: 0.9637 - val_loss: 0.1195 - val_accuracy: 0.9500\n",
            "Epoch 23/25\n",
            "21/21 [==============================] - 789s 38s/step - loss: 0.1152 - accuracy: 0.9644 - val_loss: 0.1456 - val_accuracy: 0.9333\n",
            "Epoch 24/25\n",
            "21/21 [==============================] - 787s 37s/step - loss: 0.1166 - accuracy: 0.9637 - val_loss: 0.1371 - val_accuracy: 0.9333\n",
            "Epoch 25/25\n",
            "21/21 [==============================] - 781s 37s/step - loss: 0.1117 - accuracy: 0.9637 - val_loss: 0.1646 - val_accuracy: 0.9167\n"
          ]
        }
      ],
      "source": [
        "#fitting images to CNN\n",
        "history = model.fit(training_set, epochs=25, batch_size=64, validation_data=validation_set)"
      ]
    },
    {
      "cell_type": "code",
      "execution_count": 9,
      "metadata": {
        "id": "cY17Luz5gLcW",
        "outputId": "b3f56d9d-ed3a-4d62-ae6b-a5192a50d948",
        "colab": {
          "base_uri": "https://localhost:8080/"
        }
      },
      "outputs": [
        {
          "output_type": "stream",
          "name": "stderr",
          "text": [
            "/usr/local/lib/python3.10/dist-packages/keras/src/engine/training.py:3103: UserWarning: You are saving your model as an HDF5 file via `model.save()`. This file format is considered legacy. We recommend using instead the native Keras format, e.g. `model.save('my_model.keras')`.\n",
            "  saving_api.save_model(\n"
          ]
        }
      ],
      "source": [
        "filepath=\"VGG16_model.h5\"\n",
        "model.save(filepath)"
      ]
    },
    {
      "cell_type": "markdown",
      "metadata": {
        "id": "ht3vitfLgLcW"
      },
      "source": [
        "Visualizing the Accuracy"
      ]
    },
    {
      "cell_type": "code",
      "source": [
        "print(history.history.keys())"
      ],
      "metadata": {
        "colab": {
          "base_uri": "https://localhost:8080/"
        },
        "id": "G7QYdH2TNhwF",
        "outputId": "e6219674-72cb-436d-a2b1-ac28c132f534"
      },
      "execution_count": 10,
      "outputs": [
        {
          "output_type": "stream",
          "name": "stdout",
          "text": [
            "dict_keys(['loss', 'accuracy', 'val_loss', 'val_accuracy'])\n"
          ]
        }
      ]
    },
    {
      "cell_type": "code",
      "execution_count": 11,
      "metadata": {
        "id": "GwatFFTHgLcX",
        "outputId": "373c94f3-05da-481a-d2fb-1b362c4dd3e6",
        "colab": {
          "base_uri": "https://localhost:8080/",
          "height": 943
        }
      },
      "outputs": [
        {
          "output_type": "display_data",
          "data": {
            "text/plain": [
              "<Figure size 640x480 with 1 Axes>"
            ],
            "image/png": "[encoded data removed]"
          },
          "metadata": {}
        },
        {
          "output_type": "display_data",
          "data": {
            "text/plain": [
              "<Figure size 640x480 with 1 Axes>"
            ],
            "image/png": "[encoded data removed]"
          },
          "metadata": {}
        }
      ],
      "source": [
        "import matplotlib.pyplot as plt\n",
        "import seaborn as sns\n",
        "sns.set()\n",
        "\n",
        "acc = history.history['accuracy']\n",
        "val_acc = history.history['val_accuracy']\n",
        "loss = history.history['loss']\n",
        "val_loss = history.history['val_loss']\n",
        "epochs = range(1, len(loss) + 1)\n",
        "\n",
        "# accuracy plot\n",
        "plt.plot(epochs, acc, color='green', label='Training Accuracy')\n",
        "plt.plot(epochs, val_acc, color='blue', label='Validation Accuracy')\n",
        "plt.title('Training and Validation Accuracy')\n",
        "plt.ylabel('Accuracy')\n",
        "plt.xlabel('Epoch')\n",
        "plt.legend()\n",
        "\n",
        "plt.figure()\n",
        "# loss plot\n",
        "plt.plot(epochs, loss, color='pink', label='Training Loss')\n",
        "plt.plot(epochs, val_loss, color='red', label='Validation Loss')\n",
        "plt.title('Training and Validation Loss')\n",
        "plt.xlabel('Epoch')\n",
        "plt.ylabel('Loss')\n",
        "plt.legend()\n",
        "\n",
        "plt.show()"
      ]
    },
    {
      "cell_type": "code",
      "execution_count": 15,
      "metadata": {
        "id": "oZ8rtLJVgLcY",
        "outputId": "211c8ebd-5983-4c93-f0dc-5782dce564a0",
        "colab": {
          "base_uri": "https://localhost:8080/"
        }
      },
      "outputs": [
        {
          "output_type": "stream",
          "name": "stdout",
          "text": [
            "1/1 [==============================] - 1s 628ms/step\n",
            "Image: /content/drive/MyDrive/plant_disease_dataset/Test/Normal/healthy16.jpg, Prediction: Normal\n",
            "1/1 [==============================] - 0s 488ms/step\n",
            "Image: /content/drive/MyDrive/plant_disease_dataset/Test/Normal/healthy4.jpg, Prediction: Normal\n",
            "1/1 [==============================] - 0s 464ms/step\n",
            "Image: /content/drive/MyDrive/plant_disease_dataset/Test/Normal/healthy20.jpg, Prediction: Normal\n",
            "1/1 [==============================] - 0s 487ms/step\n",
            "Image: /content/drive/MyDrive/plant_disease_dataset/Test/Normal/healthy38.jpg, Prediction: Normal\n",
            "1/1 [==============================] - 0s 476ms/step\n",
            "Image: /content/drive/MyDrive/plant_disease_dataset/Test/Normal/healthy47.jpg, Prediction: Normal\n",
            "1/1 [==============================] - 0s 474ms/step\n",
            "Image: /content/drive/MyDrive/plant_disease_dataset/Test/Normal/healthy35.jpg, Prediction: Normal\n",
            "1/1 [==============================] - 0s 462ms/step\n",
            "Image: /content/drive/MyDrive/plant_disease_dataset/Test/Normal/healthy5.jpg, Prediction: Normal\n",
            "1/1 [==============================] - 0s 483ms/step\n",
            "Image: /content/drive/MyDrive/plant_disease_dataset/Test/Normal/healthy48.jpg, Prediction: Normal\n",
            "1/1 [==============================] - 0s 462ms/step\n",
            "Image: /content/drive/MyDrive/plant_disease_dataset/Test/Normal/healthy18.jpg, Prediction: Normal\n",
            "1/1 [==============================] - 0s 479ms/step\n",
            "Image: /content/drive/MyDrive/plant_disease_dataset/Test/Normal/healthy45.jpg, Prediction: Normal\n",
            "1/1 [==============================] - 0s 478ms/step\n",
            "Image: /content/drive/MyDrive/plant_disease_dataset/Test/Normal/healthy19.jpg, Prediction: Normal\n",
            "1/1 [==============================] - 1s 805ms/step\n",
            "Image: /content/drive/MyDrive/plant_disease_dataset/Test/Normal/healthy1.jpg, Prediction: Normal\n",
            "1/1 [==============================] - 1s 821ms/step\n",
            "Image: /content/drive/MyDrive/plant_disease_dataset/Test/Normal/healthy27.jpg, Prediction: Normal\n",
            "1/1 [==============================] - 1s 810ms/step\n",
            "Image: /content/drive/MyDrive/plant_disease_dataset/Test/Normal/healthy13.jpg, Prediction: Normal\n",
            "1/1 [==============================] - 1s 794ms/step\n",
            "Image: /content/drive/MyDrive/plant_disease_dataset/Test/Normal/healthy23.jpg, Prediction: Normal\n",
            "1/1 [==============================] - 1s 752ms/step\n",
            "Image: /content/drive/MyDrive/plant_disease_dataset/Test/Normal/healthy11.jpg, Prediction: Normal\n",
            "1/1 [==============================] - 1s 908ms/step\n",
            "Image: /content/drive/MyDrive/plant_disease_dataset/Test/Normal/healthy8.jpg, Prediction: Normal\n",
            "1/1 [==============================] - 0s 463ms/step\n",
            "Image: /content/drive/MyDrive/plant_disease_dataset/Test/Normal/healthy24.jpg, Prediction: Normal\n",
            "1/1 [==============================] - 0s 497ms/step\n",
            "Image: /content/drive/MyDrive/plant_disease_dataset/Test/Normal/healthy22.jpg, Prediction: Normal\n",
            "1/1 [==============================] - 0s 480ms/step\n",
            "Image: /content/drive/MyDrive/plant_disease_dataset/Test/Normal/healthy42.jpg, Prediction: Abnormal\n",
            "1/1 [==============================] - 0s 484ms/step\n",
            "Image: /content/drive/MyDrive/plant_disease_dataset/Test/Normal/healthy30.jpg, Prediction: Normal\n",
            "1/1 [==============================] - 0s 459ms/step\n",
            "Image: /content/drive/MyDrive/plant_disease_dataset/Test/Normal/healthy44.jpg, Prediction: Normal\n",
            "1/1 [==============================] - 0s 475ms/step\n",
            "Image: /content/drive/MyDrive/plant_disease_dataset/Test/Normal/healthy36.jpg, Prediction: Normal\n",
            "1/1 [==============================] - 0s 463ms/step\n",
            "Image: /content/drive/MyDrive/plant_disease_dataset/Test/Normal/healthy31.jpg, Prediction: Normal\n",
            "1/1 [==============================] - 0s 473ms/step\n",
            "Image: /content/drive/MyDrive/plant_disease_dataset/Test/Normal/healthy25.jpg, Prediction: Normal\n",
            "1/1 [==============================] - 0s 457ms/step\n",
            "Image: /content/drive/MyDrive/plant_disease_dataset/Test/Normal/healthy14.jpg, Prediction: Normal\n",
            "1/1 [==============================] - 0s 480ms/step\n",
            "Image: /content/drive/MyDrive/plant_disease_dataset/Test/Normal/healthy2.jpg, Prediction: Normal\n",
            "1/1 [==============================] - 0s 469ms/step\n",
            "Image: /content/drive/MyDrive/plant_disease_dataset/Test/Normal/healthy46.jpg, Prediction: Normal\n",
            "1/1 [==============================] - 0s 472ms/step\n",
            "Image: /content/drive/MyDrive/plant_disease_dataset/Test/Normal/healthy3.jpg, Prediction: Normal\n",
            "1/1 [==============================] - 0s 457ms/step\n",
            "Image: /content/drive/MyDrive/plant_disease_dataset/Test/Normal/healthy33.jpg, Prediction: Normal\n",
            "1/1 [==============================] - 0s 491ms/step\n",
            "Image: /content/drive/MyDrive/plant_disease_dataset/Test/Normal/healthy49.jpg, Prediction: Normal\n",
            "1/1 [==============================] - 0s 482ms/step\n",
            "Image: /content/drive/MyDrive/plant_disease_dataset/Test/Normal/healthy39.jpg, Prediction: Normal\n",
            "1/1 [==============================] - 0s 473ms/step\n",
            "Image: /content/drive/MyDrive/plant_disease_dataset/Test/Normal/healthy29.jpg, Prediction: Normal\n",
            "1/1 [==============================] - 0s 459ms/step\n",
            "Image: /content/drive/MyDrive/plant_disease_dataset/Test/Normal/healthy41.jpg, Prediction: Normal\n",
            "1/1 [==============================] - 0s 476ms/step\n",
            "Image: /content/drive/MyDrive/plant_disease_dataset/Test/Normal/healthy6.jpg, Prediction: Normal\n",
            "1/1 [==============================] - 1s 592ms/step\n",
            "Image: /content/drive/MyDrive/plant_disease_dataset/Test/Normal/healthy34.jpg, Prediction: Normal\n",
            "1/1 [==============================] - 1s 817ms/step\n",
            "Image: /content/drive/MyDrive/plant_disease_dataset/Test/Normal/healthy40.jpg, Prediction: Normal\n",
            "1/1 [==============================] - 1s 739ms/step\n",
            "Image: /content/drive/MyDrive/plant_disease_dataset/Test/Normal/healthy10.jpg, Prediction: Normal\n",
            "1/1 [==============================] - 1s 898ms/step\n",
            "Image: /content/drive/MyDrive/plant_disease_dataset/Test/Normal/healthy43.jpg, Prediction: Normal\n",
            "1/1 [==============================] - 1s 893ms/step\n",
            "Image: /content/drive/MyDrive/plant_disease_dataset/Test/Normal/healthy50.jpg, Prediction: Normal\n",
            "1/1 [==============================] - 1s 931ms/step\n",
            "Image: /content/drive/MyDrive/plant_disease_dataset/Test/Normal/healthy9.jpg, Prediction: Normal\n",
            "1/1 [==============================] - 1s 879ms/step\n",
            "Image: /content/drive/MyDrive/plant_disease_dataset/Test/Normal/healthy12.jpg, Prediction: Normal\n",
            "1/1 [==============================] - 1s 936ms/step\n",
            "Image: /content/drive/MyDrive/plant_disease_dataset/Test/Normal/healthy37.jpg, Prediction: Normal\n",
            "1/1 [==============================] - 1s 787ms/step\n",
            "Image: /content/drive/MyDrive/plant_disease_dataset/Test/Normal/healthy21.jpg, Prediction: Normal\n",
            "1/1 [==============================] - 1s 860ms/step\n",
            "Image: /content/drive/MyDrive/plant_disease_dataset/Test/Normal/healthy26.jpg, Prediction: Normal\n",
            "1/1 [==============================] - 1s 735ms/step\n",
            "Image: /content/drive/MyDrive/plant_disease_dataset/Test/Normal/healthy32.jpg, Prediction: Normal\n",
            "1/1 [==============================] - 0s 457ms/step\n",
            "Image: /content/drive/MyDrive/plant_disease_dataset/Test/Normal/healthy17.jpg, Prediction: Normal\n",
            "1/1 [==============================] - 0s 475ms/step\n",
            "Image: /content/drive/MyDrive/plant_disease_dataset/Test/Normal/healthy28.jpg, Prediction: Normal\n",
            "1/1 [==============================] - 0s 460ms/step\n",
            "Image: /content/drive/MyDrive/plant_disease_dataset/Test/Normal/healthy7.jpg, Prediction: Normal\n",
            "1/1 [==============================] - 1s 503ms/step\n",
            "Image: /content/drive/MyDrive/plant_disease_dataset/Test/Normal/healthy15.jpg, Prediction: Normal\n",
            "1/1 [==============================] - 0s 462ms/step\n",
            "Image: /content/drive/MyDrive/plant_disease_dataset/Test/Abnormal/powdery39.jpg, Prediction: Abnormal\n",
            "1/1 [==============================] - 1s 531ms/step\n",
            "Image: /content/drive/MyDrive/plant_disease_dataset/Test/Abnormal/powdery41.jpg, Prediction: Abnormal\n",
            "1/1 [==============================] - 0s 466ms/step\n",
            "Image: /content/drive/MyDrive/plant_disease_dataset/Test/Abnormal/powdery50.jpg, Prediction: Abnormal\n",
            "1/1 [==============================] - 0s 469ms/step\n",
            "Image: /content/drive/MyDrive/plant_disease_dataset/Test/Abnormal/powdery19.jpg, Prediction: Abnormal\n",
            "1/1 [==============================] - 0s 459ms/step\n",
            "Image: /content/drive/MyDrive/plant_disease_dataset/Test/Abnormal/powdery3.jpg, Prediction: Normal\n",
            "1/1 [==============================] - 0s 475ms/step\n",
            "Image: /content/drive/MyDrive/plant_disease_dataset/Test/Abnormal/powdery18.jpg, Prediction: Abnormal\n",
            "1/1 [==============================] - 0s 457ms/step\n",
            "Image: /content/drive/MyDrive/plant_disease_dataset/Test/Abnormal/powdery44.jpg, Prediction: Normal\n",
            "1/1 [==============================] - 0s 467ms/step\n",
            "Image: /content/drive/MyDrive/plant_disease_dataset/Test/Abnormal/powdery47.jpg, Prediction: Abnormal\n",
            "1/1 [==============================] - 0s 461ms/step\n",
            "Image: /content/drive/MyDrive/plant_disease_dataset/Test/Abnormal/powdery40.jpg, Prediction: Abnormal\n",
            "1/1 [==============================] - 1s 525ms/step\n",
            "Image: /content/drive/MyDrive/plant_disease_dataset/Test/Abnormal/powdery1.jpg, Prediction: Abnormal\n",
            "1/1 [==============================] - 1s 792ms/step\n",
            "Image: /content/drive/MyDrive/plant_disease_dataset/Test/Abnormal/powdery5.jpg, Prediction: Normal\n",
            "1/1 [==============================] - 1s 806ms/step\n",
            "Image: /content/drive/MyDrive/plant_disease_dataset/Test/Abnormal/powdery34.jpg, Prediction: Abnormal\n",
            "1/1 [==============================] - 1s 820ms/step\n",
            "Image: /content/drive/MyDrive/plant_disease_dataset/Test/Abnormal/powdery49.jpg, Prediction: Abnormal\n",
            "1/1 [==============================] - 1s 785ms/step\n",
            "Image: /content/drive/MyDrive/plant_disease_dataset/Test/Abnormal/powdery43.jpg, Prediction: Abnormal\n",
            "1/1 [==============================] - 1s 848ms/step\n",
            "Image: /content/drive/MyDrive/plant_disease_dataset/Test/Abnormal/powdery45.jpg, Prediction: Abnormal\n",
            "1/1 [==============================] - 1s 759ms/step\n",
            "Image: /content/drive/MyDrive/plant_disease_dataset/Test/Abnormal/powdery26.jpg, Prediction: Abnormal\n",
            "1/1 [==============================] - 0s 468ms/step\n",
            "Image: /content/drive/MyDrive/plant_disease_dataset/Test/Abnormal/powdery38.jpg, Prediction: Abnormal\n",
            "1/1 [==============================] - 0s 481ms/step\n",
            "Image: /content/drive/MyDrive/plant_disease_dataset/Test/Abnormal/powdery46.jpg, Prediction: Abnormal\n",
            "1/1 [==============================] - 0s 478ms/step\n",
            "Image: /content/drive/MyDrive/plant_disease_dataset/Test/Abnormal/powdery23.jpg, Prediction: Abnormal\n",
            "1/1 [==============================] - 0s 481ms/step\n",
            "Image: /content/drive/MyDrive/plant_disease_dataset/Test/Abnormal/powdery20.jpg, Prediction: Abnormal\n",
            "1/1 [==============================] - 0s 482ms/step\n",
            "Image: /content/drive/MyDrive/plant_disease_dataset/Test/Abnormal/powdery30.jpg, Prediction: Abnormal\n",
            "1/1 [==============================] - 0s 467ms/step\n",
            "Image: /content/drive/MyDrive/plant_disease_dataset/Test/Abnormal/powdery4.jpg, Prediction: Abnormal\n",
            "1/1 [==============================] - 0s 495ms/step\n",
            "Image: /content/drive/MyDrive/plant_disease_dataset/Test/Abnormal/powdery42.jpg, Prediction: Normal\n",
            "1/1 [==============================] - 0s 472ms/step\n",
            "Image: /content/drive/MyDrive/plant_disease_dataset/Test/Abnormal/powdery37.jpg, Prediction: Abnormal\n",
            "1/1 [==============================] - 0s 484ms/step\n",
            "Image: /content/drive/MyDrive/plant_disease_dataset/Test/Abnormal/powdery29.jpg, Prediction: Abnormal\n",
            "1/1 [==============================] - 0s 469ms/step\n",
            "Image: /content/drive/MyDrive/plant_disease_dataset/Test/Abnormal/powdery24.jpg, Prediction: Abnormal\n",
            "1/1 [==============================] - 0s 498ms/step\n",
            "Image: /content/drive/MyDrive/plant_disease_dataset/Test/Abnormal/powdery12.jpg, Prediction: Abnormal\n",
            "1/1 [==============================] - 0s 483ms/step\n",
            "Image: /content/drive/MyDrive/plant_disease_dataset/Test/Abnormal/powdery2.jpg, Prediction: Abnormal\n",
            "1/1 [==============================] - 0s 483ms/step\n",
            "Image: /content/drive/MyDrive/plant_disease_dataset/Test/Abnormal/powdery13.jpg, Prediction: Normal\n",
            "1/1 [==============================] - 0s 464ms/step\n",
            "Image: /content/drive/MyDrive/plant_disease_dataset/Test/Abnormal/powdery22.jpg, Prediction: Abnormal\n",
            "1/1 [==============================] - 0s 476ms/step\n",
            "Image: /content/drive/MyDrive/plant_disease_dataset/Test/Abnormal/powdery48.jpg, Prediction: Abnormal\n",
            "1/1 [==============================] - 0s 464ms/step\n",
            "Image: /content/drive/MyDrive/plant_disease_dataset/Test/Abnormal/powdery28.jpg, Prediction: Abnormal\n",
            "1/1 [==============================] - 0s 478ms/step\n",
            "Image: /content/drive/MyDrive/plant_disease_dataset/Test/Abnormal/powdery9.jpg, Prediction: Abnormal\n",
            "1/1 [==============================] - 0s 486ms/step\n",
            "Image: /content/drive/MyDrive/plant_disease_dataset/Test/Abnormal/powdery14.jpg, Prediction: Abnormal\n",
            "1/1 [==============================] - 1s 815ms/step\n",
            "Image: /content/drive/MyDrive/plant_disease_dataset/Test/Abnormal/powdery27.jpg, Prediction: Abnormal\n",
            "1/1 [==============================] - 1s 761ms/step\n",
            "Image: /content/drive/MyDrive/plant_disease_dataset/Test/Abnormal/powdery11.jpg, Prediction: Abnormal\n",
            "1/1 [==============================] - 1s 803ms/step\n",
            "Image: /content/drive/MyDrive/plant_disease_dataset/Test/Abnormal/powdery6.jpg, Prediction: Abnormal\n",
            "1/1 [==============================] - 0s 498ms/step\n",
            "Image: /content/drive/MyDrive/plant_disease_dataset/Test/Abnormal/powdery15.jpg, Prediction: Abnormal\n",
            "1/1 [==============================] - 0s 475ms/step\n",
            "Image: /content/drive/MyDrive/plant_disease_dataset/Test/Abnormal/powdery16.jpg, Prediction: Abnormal\n",
            "1/1 [==============================] - 0s 470ms/step\n",
            "Image: /content/drive/MyDrive/plant_disease_dataset/Test/Abnormal/powdery31.jpg, Prediction: Abnormal\n",
            "1/1 [==============================] - 0s 470ms/step\n",
            "Image: /content/drive/MyDrive/plant_disease_dataset/Test/Abnormal/powdery35.jpg, Prediction: Abnormal\n",
            "1/1 [==============================] - 0s 456ms/step\n",
            "Image: /content/drive/MyDrive/plant_disease_dataset/Test/Abnormal/powdery17.jpg, Prediction: Abnormal\n",
            "1/1 [==============================] - 0s 468ms/step\n",
            "Image: /content/drive/MyDrive/plant_disease_dataset/Test/Abnormal/powdery32.jpg, Prediction: Abnormal\n",
            "1/1 [==============================] - 0s 455ms/step\n",
            "Image: /content/drive/MyDrive/plant_disease_dataset/Test/Abnormal/powdery10.jpg, Prediction: Abnormal\n",
            "1/1 [==============================] - 0s 469ms/step\n",
            "Image: /content/drive/MyDrive/plant_disease_dataset/Test/Abnormal/powdery8.jpg, Prediction: Abnormal\n",
            "1/1 [==============================] - 0s 466ms/step\n",
            "Image: /content/drive/MyDrive/plant_disease_dataset/Test/Abnormal/powdery36.jpg, Prediction: Abnormal\n",
            "1/1 [==============================] - 1s 502ms/step\n",
            "Image: /content/drive/MyDrive/plant_disease_dataset/Test/Abnormal/powdery25.jpg, Prediction: Abnormal\n",
            "1/1 [==============================] - 0s 465ms/step\n",
            "Image: /content/drive/MyDrive/plant_disease_dataset/Test/Abnormal/powdery33.jpg, Prediction: Abnormal\n",
            "1/1 [==============================] - 1s 506ms/step\n",
            "Image: /content/drive/MyDrive/plant_disease_dataset/Test/Abnormal/powdery21.jpg, Prediction: Abnormal\n",
            "1/1 [==============================] - 0s 473ms/step\n",
            "Image: /content/drive/MyDrive/plant_disease_dataset/Test/Abnormal/powdery7.jpg, Prediction: Abnormal\n",
            "1/1 [==============================] - 1s 505ms/step\n",
            "Image: /content/drive/MyDrive/plant_disease_dataset/Test/Abnormal/rust29.jpg, Prediction: Abnormal\n",
            "1/1 [==============================] - 0s 470ms/step\n",
            "Image: /content/drive/MyDrive/plant_disease_dataset/Test/Abnormal/rust2.jpg, Prediction: Abnormal\n",
            "1/1 [==============================] - 0s 478ms/step\n",
            "Image: /content/drive/MyDrive/plant_disease_dataset/Test/Abnormal/rust21.jpg, Prediction: Abnormal\n",
            "1/1 [==============================] - 0s 458ms/step\n",
            "Image: /content/drive/MyDrive/plant_disease_dataset/Test/Abnormal/rust9.jpg, Prediction: Normal\n",
            "1/1 [==============================] - 0s 485ms/step\n",
            "Image: /content/drive/MyDrive/plant_disease_dataset/Test/Abnormal/rust40.jpg, Prediction: Abnormal\n",
            "1/1 [==============================] - 0s 491ms/step\n",
            "Image: /content/drive/MyDrive/plant_disease_dataset/Test/Abnormal/rust22.jpg, Prediction: Abnormal\n",
            "1/1 [==============================] - 1s 836ms/step\n",
            "Image: /content/drive/MyDrive/plant_disease_dataset/Test/Abnormal/rust26.jpg, Prediction: Abnormal\n",
            "1/1 [==============================] - 1s 809ms/step\n",
            "Image: /content/drive/MyDrive/plant_disease_dataset/Test/Abnormal/rust27.jpg, Prediction: Abnormal\n",
            "1/1 [==============================] - 1s 831ms/step\n",
            "Image: /content/drive/MyDrive/plant_disease_dataset/Test/Abnormal/rust1.jpg, Prediction: Abnormal\n",
            "1/1 [==============================] - 1s 786ms/step\n",
            "Image: /content/drive/MyDrive/plant_disease_dataset/Test/Abnormal/rust47.jpg, Prediction: Abnormal\n",
            "1/1 [==============================] - 1s 886ms/step\n",
            "Image: /content/drive/MyDrive/plant_disease_dataset/Test/Abnormal/rust3.jpg, Prediction: Abnormal\n",
            "1/1 [==============================] - 1s 731ms/step\n",
            "Image: /content/drive/MyDrive/plant_disease_dataset/Test/Abnormal/rust5.jpg, Prediction: Abnormal\n",
            "1/1 [==============================] - 0s 467ms/step\n",
            "Image: /content/drive/MyDrive/plant_disease_dataset/Test/Abnormal/rust43.jpg, Prediction: Abnormal\n",
            "1/1 [==============================] - 0s 465ms/step\n",
            "Image: /content/drive/MyDrive/plant_disease_dataset/Test/Abnormal/rust12.jpg, Prediction: Abnormal\n",
            "1/1 [==============================] - 0s 468ms/step\n",
            "Image: /content/drive/MyDrive/plant_disease_dataset/Test/Abnormal/rust6.jpg, Prediction: Abnormal\n",
            "1/1 [==============================] - 0s 481ms/step\n",
            "Image: /content/drive/MyDrive/plant_disease_dataset/Test/Abnormal/rust18.jpg, Prediction: Normal\n",
            "1/1 [==============================] - 0s 466ms/step\n",
            "Image: /content/drive/MyDrive/plant_disease_dataset/Test/Abnormal/rust8.jpg, Prediction: Normal\n",
            "1/1 [==============================] - 0s 461ms/step\n",
            "Image: /content/drive/MyDrive/plant_disease_dataset/Test/Abnormal/rust45.jpg, Prediction: Abnormal\n",
            "1/1 [==============================] - 0s 466ms/step\n",
            "Image: /content/drive/MyDrive/plant_disease_dataset/Test/Abnormal/rust16.jpg, Prediction: Abnormal\n",
            "1/1 [==============================] - 0s 459ms/step\n",
            "Image: /content/drive/MyDrive/plant_disease_dataset/Test/Abnormal/rust42.jpg, Prediction: Abnormal\n",
            "1/1 [==============================] - 0s 456ms/step\n",
            "Image: /content/drive/MyDrive/plant_disease_dataset/Test/Abnormal/rust30.jpg, Prediction: Normal\n",
            "1/1 [==============================] - 0s 462ms/step\n",
            "Image: /content/drive/MyDrive/plant_disease_dataset/Test/Abnormal/rust46.jpg, Prediction: Abnormal\n",
            "1/1 [==============================] - 0s 450ms/step\n",
            "Image: /content/drive/MyDrive/plant_disease_dataset/Test/Abnormal/rust31.jpg, Prediction: Abnormal\n",
            "1/1 [==============================] - 0s 457ms/step\n",
            "Image: /content/drive/MyDrive/plant_disease_dataset/Test/Abnormal/rust32.jpg, Prediction: Abnormal\n",
            "1/1 [==============================] - 0s 465ms/step\n",
            "Image: /content/drive/MyDrive/plant_disease_dataset/Test/Abnormal/rust49.jpg, Prediction: Normal\n",
            "1/1 [==============================] - 0s 485ms/step\n",
            "Image: /content/drive/MyDrive/plant_disease_dataset/Test/Abnormal/rust34.jpg, Prediction: Abnormal\n",
            "1/1 [==============================] - 0s 459ms/step\n",
            "Image: /content/drive/MyDrive/plant_disease_dataset/Test/Abnormal/rust15.jpg, Prediction: Abnormal\n",
            "1/1 [==============================] - 0s 464ms/step\n",
            "Image: /content/drive/MyDrive/plant_disease_dataset/Test/Abnormal/rust24.jpg, Prediction: Abnormal\n",
            "1/1 [==============================] - 0s 462ms/step\n",
            "Image: /content/drive/MyDrive/plant_disease_dataset/Test/Abnormal/rust25.jpg, Prediction: Normal\n",
            "1/1 [==============================] - 0s 465ms/step\n",
            "Image: /content/drive/MyDrive/plant_disease_dataset/Test/Abnormal/rust50.jpg, Prediction: Abnormal\n",
            "1/1 [==============================] - 1s 615ms/step\n",
            "Image: /content/drive/MyDrive/plant_disease_dataset/Test/Abnormal/rust4.jpg, Prediction: Abnormal\n",
            "1/1 [==============================] - 1s 805ms/step\n",
            "Image: /content/drive/MyDrive/plant_disease_dataset/Test/Abnormal/rust23.jpg, Prediction: Abnormal\n",
            "1/1 [==============================] - 1s 787ms/step\n",
            "Image: /content/drive/MyDrive/plant_disease_dataset/Test/Abnormal/rust7.jpg, Prediction: Abnormal\n",
            "1/1 [==============================] - 1s 862ms/step\n",
            "Image: /content/drive/MyDrive/plant_disease_dataset/Test/Abnormal/rust39.jpg, Prediction: Abnormal\n",
            "1/1 [==============================] - 1s 766ms/step\n",
            "Image: /content/drive/MyDrive/plant_disease_dataset/Test/Abnormal/rust36.jpg, Prediction: Abnormal\n",
            "1/1 [==============================] - 1s 849ms/step\n",
            "Image: /content/drive/MyDrive/plant_disease_dataset/Test/Abnormal/rust10.jpg, Prediction: Abnormal\n",
            "1/1 [==============================] - 1s 768ms/step\n",
            "Image: /content/drive/MyDrive/plant_disease_dataset/Test/Abnormal/rust44.jpg, Prediction: Abnormal\n",
            "1/1 [==============================] - 0s 470ms/step\n",
            "Image: /content/drive/MyDrive/plant_disease_dataset/Test/Abnormal/rust38.jpg, Prediction: Normal\n",
            "1/1 [==============================] - 0s 476ms/step\n",
            "Image: /content/drive/MyDrive/plant_disease_dataset/Test/Abnormal/rust19.jpg, Prediction: Abnormal\n",
            "1/1 [==============================] - 0s 466ms/step\n",
            "Image: /content/drive/MyDrive/plant_disease_dataset/Test/Abnormal/rust11.jpg, Prediction: Abnormal\n",
            "1/1 [==============================] - 0s 470ms/step\n",
            "Image: /content/drive/MyDrive/plant_disease_dataset/Test/Abnormal/rust37.jpg, Prediction: Abnormal\n",
            "1/1 [==============================] - 0s 468ms/step\n",
            "Image: /content/drive/MyDrive/plant_disease_dataset/Test/Abnormal/rust48.jpg, Prediction: Abnormal\n",
            "1/1 [==============================] - 1s 531ms/step\n",
            "Image: /content/drive/MyDrive/plant_disease_dataset/Test/Abnormal/rust35.jpg, Prediction: Abnormal\n",
            "1/1 [==============================] - 1s 787ms/step\n",
            "Image: /content/drive/MyDrive/plant_disease_dataset/Test/Abnormal/rust33.jpg, Prediction: Abnormal\n",
            "1/1 [==============================] - 1s 803ms/step\n",
            "Image: /content/drive/MyDrive/plant_disease_dataset/Test/Abnormal/rust41.jpg, Prediction: Abnormal\n",
            "1/1 [==============================] - 2s 2s/step\n",
            "Image: /content/drive/MyDrive/plant_disease_dataset/Test/Abnormal/rust13.jpg, Prediction: Abnormal\n",
            "1/1 [==============================] - 1s 787ms/step\n",
            "Image: /content/drive/MyDrive/plant_disease_dataset/Test/Abnormal/rust14.jpg, Prediction: Abnormal\n",
            "1/1 [==============================] - 0s 480ms/step\n",
            "Image: /content/drive/MyDrive/plant_disease_dataset/Test/Abnormal/rust17.jpg, Prediction: Abnormal\n",
            "1/1 [==============================] - 0s 484ms/step\n",
            "Image: /content/drive/MyDrive/plant_disease_dataset/Test/Abnormal/rust28.jpg, Prediction: Abnormal\n",
            "1/1 [==============================] - 1s 710ms/step\n",
            "Image: /content/drive/MyDrive/plant_disease_dataset/Test/Abnormal/rust20.jpg, Prediction: Abnormal\n",
            "Accuracy for Normal: 98.00%\n",
            "Accuracy for Abnormal: 88.00%\n"
          ]
        }
      ],
      "source": [
        "from keras.models import load_model\n",
        "from keras.preprocessing import image\n",
        "model = load_model('VGG16_model.h5')\n",
        "\n",
        "labels = ['Normal', 'Abnormal']\n",
        "\n",
        "correct_predictions = {'Normal': 0, 'Abnormal': 0}\n",
        "total_images = {'Normal': 0, 'Abnormal': 0}\n",
        "\n",
        "for label in labels:\n",
        "    label_dir = os.path.join(testdir, label)\n",
        "    images = os.listdir(label_dir)\n",
        "    total_images[label] = len(images)\n",
        "\n",
        "    for img_name in images:\n",
        "        img_path = os.path.join(label_dir, img_name)\n",
        "\n",
        "        if not os.path.isfile(img_path):\n",
        "            continue\n",
        "\n",
        "        try:\n",
        "            img = image.load_img(img_path, target_size=(224, 224))\n",
        "            img_array = image.img_to_array(img)\n",
        "            img_array = np.expand_dims(img_array, axis=0)\n",
        "            img_array = img_array / 255.0\n",
        "\n",
        "            prediction = model.predict(img_array)\n",
        "\n",
        "            if prediction[0][0] > 0.5:\n",
        "                predicted_label = 'Normal'\n",
        "            else:\n",
        "                predicted_label = 'Abnormal'\n",
        "\n",
        "            if predicted_label == label:\n",
        "                correct_predictions[label] += 1\n",
        "\n",
        "            print(\"Image: {}, Prediction: {}\".format(img_path, predicted_label))\n",
        "        except Exception as e:\n",
        "            print(\"Error processing image {}: {}\".format(img_path, str(e)))\n",
        "\n",
        "for label in labels:\n",
        "    accuracy = correct_predictions[label] / total_images[label] * 100\n",
        "    print(\"Accuracy for {}: {:.2f}%\".format(label, accuracy))"
      ]
    }
  ],
  "metadata": {
    "kernelspec": {
      "display_name": "Python 3 (ipykernel)",
      "language": "python",
      "name": "python3"
    },
    "language_info": {
      "codemirror_mode": {
        "name": "ipython",
        "version": 3
      },
      "file_extension": ".py",
      "mimetype": "text/x-python",
      "name": "python",
      "nbconvert_exporter": "python",
      "pygments_lexer": "ipython3",
      "version": "3.11.1"
    },
    "colab": {
      "provenance": []
    }
  },
  "nbformat": 4,
  "nbformat_minor": 0
}